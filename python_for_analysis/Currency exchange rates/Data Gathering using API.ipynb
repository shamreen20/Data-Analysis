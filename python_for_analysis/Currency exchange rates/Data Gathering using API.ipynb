{
 "cells": [
  {
   "cell_type": "markdown",
   "id": "ba0123a2",
   "metadata": {},
   "source": [
    "## Pulling data from public APIs (without registration) -- Get request"
   ]
  },
  {
   "cell_type": "code",
   "execution_count": 1,
   "id": "3b6a7121",
   "metadata": {},
   "outputs": [],
   "source": [
    "import requests    # loading the package"
   ]
  },
  {
   "cell_type": "markdown",
   "id": "936c5128",
   "metadata": {},
   "source": [
    "### Extracting data on currancy exchance rate"
   ]
  },
  {
   "cell_type": "markdown",
   "id": "ac847276",
   "metadata": {},
   "source": [
    "## Sending a GET Request"
   ]
  },
  {
   "cell_type": "code",
   "execution_count": 2,
   "id": "cf4f6d4d",
   "metadata": {},
   "outputs": [],
   "source": [
    "# We will use an API containing currency exchange rates as published by the European Central Bank\n",
    "# Documentation at https://exchangeratesapi.io"
   ]
  },
  {
   "cell_type": "code",
   "execution_count": 3,
   "id": "cb1667fd",
   "metadata": {},
   "outputs": [],
   "source": [
    "access_key = 'Put your API key here!';"
   ]
  },
  {
   "cell_type": "code",
   "execution_count": 3,
   "id": "6bb44764",
   "metadata": {},
   "outputs": [],
   "source": [
    "base_url = 'http://api.exchangeratesapi.io/v1/latest?access_key=API_KEY'   # Define the base URL"
   ]
  },
  {
   "cell_type": "code",
   "execution_count": 4,
   "id": "cdaaf05e",
   "metadata": {},
   "outputs": [],
   "source": [
    "response = requests.get(base_url)      # We can make a GET request to this API endpoint with requests.get\n",
    "                                       # This method returns the response from the server\n",
    "                                       # We store this response in a variable for future processing"
   ]
  },
  {
   "cell_type": "code",
   "execution_count": 5,
   "id": "22a1f12c",
   "metadata": {},
   "outputs": [
    {
     "data": {
      "text/plain": [
       "True"
      ]
     },
     "execution_count": 5,
     "metadata": {},
     "output_type": "execute_result"
    }
   ],
   "source": [
    "response.ok         # Checking if the request went through ok"
   ]
  },
  {
   "cell_type": "code",
   "execution_count": 6,
   "id": "d70b1d6b",
   "metadata": {},
   "outputs": [
    {
     "data": {
      "text/plain": [
       "200"
      ]
     },
     "execution_count": 6,
     "metadata": {},
     "output_type": "execute_result"
    }
   ],
   "source": [
    "response.status_code   # checking the status of the response"
   ]
  },
  {
   "cell_type": "code",
   "execution_count": 7,
   "id": "477dbd28",
   "metadata": {},
   "outputs": [
    {
     "data": {
      "text/plain": [
       "'{\"success\":true,\"timestamp\":1702158603,\"base\":\"EUR\",\"date\":\"2023-12-09\",\"rates\":{\"AED\":3.956462,\"AFN\":74.649948,\"ALL\":101.849929,\"AMD\":434.999699,\"ANG\":1.943299,\"AOA\":896.897542,\"ARS\":392.400128,\"AUD\":1.636563,\"AWG\":1.939229,\"AZN\":1.835771,\"BAM\":1.955799,\"BBD\":2.177098,\"BDT\":118.609918,\"BGN\":1.955799,\"BHD\":0.4065,\"BIF\":3068.097874,\"BMD\":1.077349,\"BND\":1.443699,\"BOB\":7.450995,\"BRL\":5.292496,\"BSD\":1.078299,\"BTC\":2.4487707e-5,\"BTN\":89.909438,\"BWP\":14.68999,\"BYN\":3.552498,\"BYR\":21116.045369,\"BZD\":2.173498,\"CAD\":1.464603,\"CDF\":2887.296389,\"CHF\":0.948133,\"CLF\":0.034056,\"CLP\":939.719349,\"CNY\":7.688615,\"COP\":4300.09702,\"CRC\":569.099606,\"CUC\":1.077349,\"CUP\":28.549755,\"CVE\":110.264924,\"CZK\":24.39507,\"DJF\":191.989867,\"DKK\":7.462372,\"DOP\":61.429957,\"DZD\":145.120065,\"EGP\":33.318677,\"ERN\":16.160239,\"ETB\":60.137658,\"EUR\":1,\"FJD\":2.410789,\"FKP\":0.859337,\"GBP\":0.858582,\"GEL\":2.871179,\"GGP\":0.859337,\"GHS\":12.971991,\"GIP\":0.859337,\"GMD\":72.559892,\"GNF\":9267.993578,\"GTQ\":8.439994,\"GYD\":225.769844,\"HKD\":8.414425,\"HNL\":26.593982,\"HRK\":7.58623,\"HTG\":142.619901,\"HUF\":381.716032,\"IDR\":16777.559925,\"ILS\":3.992689,\"IMP\":0.859337,\"INR\":89.883626,\"IQD\":1411.499022,\"IRR\":45544.940072,\"ISK\":150.463013,\"JEP\":0.859337,\"JMD\":167.819884,\"JOD\":0.764384,\"JPY\":156.069165,\"KES\":166.819884,\"KGS\":96.22925,\"KHR\":4436.996926,\"KMF\":493.264769,\"KPW\":969.574174,\"KRW\":1419.580431,\"KWD\":0.332212,\"KYD\":0.898599,\"KZT\":494.729657,\"LAK\":22345.984516,\"LBP\":16206.488771,\"LKR\":352.930755,\"LRD\":202.811408,\"LSL\":20.4485,\"LTL\":3.181133,\"LVL\":0.651678,\"LYD\":5.211996,\"MAD\":10.923092,\"MDL\":19.176987,\"MGA\":4942.996575,\"MKD\":61.519957,\"MMK\":2264.398431,\"MNT\":3699.799795,\"MOP\":8.677294,\"MRU\":42.667066,\"MUR\":47.522284,\"MVR\":16.537719,\"MWK\":1815.098742,\"MXN\":18.689897,\"MYR\":5.025876,\"MZN\":68.142287,\"NAD\":20.448495,\"NGN\":865.65414,\"NIO\":39.459973,\"NOK\":11.780227,\"NPR\":143.8549,\"NZD\":1.75779,\"OMR\":0.414821,\"PAB\":1.078299,\"PEN\":4.051797,\"PGK\":4.019997,\"PHP\":59.850526,\"PKR\":305.960288,\"PLN\":4.338897,\"PYG\":7926.994507,\"QAR\":3.92267,\"RON\":4.972833,\"RSD\":117.171919,\"RUB\":99.283162,\"RWF\":1356.79906,\"SAR\":4.04058,\"SBD\":9.131554,\"SCR\":14.200582,\"SDG\":647.487267,\"SEK\":11.276511,\"SGD\":1.444766,\"SHP\":1.310865,\"SLE\":24.67211,\"SLL\":21277.648121,\"SOS\":615.166788,\"SRD\":40.442655,\"STD\":22298.954388,\"SYP\":14007.508954,\"SZL\":20.384986,\"THB\":38.416161,\"TJS\":11.780192,\"TMT\":3.770722,\"TND\":3.372646,\"TOP\":2.541737,\"TRY\":31.164917,\"TTD\":7.323995,\"TWD\":33.855166,\"TZS\":2701.098128,\"UAH\":39.607273,\"UGX\":4064.997183,\"USD\":1.077349,\"UYU\":42.139971,\"UZS\":13275.990801,\"VEF\":3830760.985659,\"VES\":38.307658,\"VND\":26104.172412,\"VUV\":129.081044,\"WST\":2.958057,\"XAF\":655.956545,\"XAG\":0.046825,\"XAU\":0.000537,\"XCD\":2.911591,\"XDR\":0.811499,\"XOF\":655.956545,\"XPF\":119.331742,\"YER\":269.687492,\"ZAR\":20.4286,\"ZMK\":9697.439969,\"ZMW\":26.012982,\"ZWL\":346.90602}}'"
      ]
     },
     "execution_count": 7,
     "metadata": {},
     "output_type": "execute_result"
    }
   ],
   "source": [
    "response.text        # Inspecting the content body of the response (as a regular 'string')"
   ]
  },
  {
   "cell_type": "code",
   "execution_count": 8,
   "id": "5f46c5d7",
   "metadata": {},
   "outputs": [
    {
     "data": {
      "text/plain": [
       "{'success': True,\n",
       " 'timestamp': 1702158603,\n",
       " 'base': 'EUR',\n",
       " 'date': '2023-12-09',\n",
       " 'rates': {'AED': 3.956462,\n",
       "  'AFN': 74.649948,\n",
       "  'ALL': 101.849929,\n",
       "  'AMD': 434.999699,\n",
       "  'ANG': 1.943299,\n",
       "  'AOA': 896.897542,\n",
       "  'ARS': 392.400128,\n",
       "  'AUD': 1.636563,\n",
       "  'AWG': 1.939229,\n",
       "  'AZN': 1.835771,\n",
       "  'BAM': 1.955799,\n",
       "  'BBD': 2.177098,\n",
       "  'BDT': 118.609918,\n",
       "  'BGN': 1.955799,\n",
       "  'BHD': 0.4065,\n",
       "  'BIF': 3068.097874,\n",
       "  'BMD': 1.077349,\n",
       "  'BND': 1.443699,\n",
       "  'BOB': 7.450995,\n",
       "  'BRL': 5.292496,\n",
       "  'BSD': 1.078299,\n",
       "  'BTC': 2.4487707e-05,\n",
       "  'BTN': 89.909438,\n",
       "  'BWP': 14.68999,\n",
       "  'BYN': 3.552498,\n",
       "  'BYR': 21116.045369,\n",
       "  'BZD': 2.173498,\n",
       "  'CAD': 1.464603,\n",
       "  'CDF': 2887.296389,\n",
       "  'CHF': 0.948133,\n",
       "  'CLF': 0.034056,\n",
       "  'CLP': 939.719349,\n",
       "  'CNY': 7.688615,\n",
       "  'COP': 4300.09702,\n",
       "  'CRC': 569.099606,\n",
       "  'CUC': 1.077349,\n",
       "  'CUP': 28.549755,\n",
       "  'CVE': 110.264924,\n",
       "  'CZK': 24.39507,\n",
       "  'DJF': 191.989867,\n",
       "  'DKK': 7.462372,\n",
       "  'DOP': 61.429957,\n",
       "  'DZD': 145.120065,\n",
       "  'EGP': 33.318677,\n",
       "  'ERN': 16.160239,\n",
       "  'ETB': 60.137658,\n",
       "  'EUR': 1,\n",
       "  'FJD': 2.410789,\n",
       "  'FKP': 0.859337,\n",
       "  'GBP': 0.858582,\n",
       "  'GEL': 2.871179,\n",
       "  'GGP': 0.859337,\n",
       "  'GHS': 12.971991,\n",
       "  'GIP': 0.859337,\n",
       "  'GMD': 72.559892,\n",
       "  'GNF': 9267.993578,\n",
       "  'GTQ': 8.439994,\n",
       "  'GYD': 225.769844,\n",
       "  'HKD': 8.414425,\n",
       "  'HNL': 26.593982,\n",
       "  'HRK': 7.58623,\n",
       "  'HTG': 142.619901,\n",
       "  'HUF': 381.716032,\n",
       "  'IDR': 16777.559925,\n",
       "  'ILS': 3.992689,\n",
       "  'IMP': 0.859337,\n",
       "  'INR': 89.883626,\n",
       "  'IQD': 1411.499022,\n",
       "  'IRR': 45544.940072,\n",
       "  'ISK': 150.463013,\n",
       "  'JEP': 0.859337,\n",
       "  'JMD': 167.819884,\n",
       "  'JOD': 0.764384,\n",
       "  'JPY': 156.069165,\n",
       "  'KES': 166.819884,\n",
       "  'KGS': 96.22925,\n",
       "  'KHR': 4436.996926,\n",
       "  'KMF': 493.264769,\n",
       "  'KPW': 969.574174,\n",
       "  'KRW': 1419.580431,\n",
       "  'KWD': 0.332212,\n",
       "  'KYD': 0.898599,\n",
       "  'KZT': 494.729657,\n",
       "  'LAK': 22345.984516,\n",
       "  'LBP': 16206.488771,\n",
       "  'LKR': 352.930755,\n",
       "  'LRD': 202.811408,\n",
       "  'LSL': 20.4485,\n",
       "  'LTL': 3.181133,\n",
       "  'LVL': 0.651678,\n",
       "  'LYD': 5.211996,\n",
       "  'MAD': 10.923092,\n",
       "  'MDL': 19.176987,\n",
       "  'MGA': 4942.996575,\n",
       "  'MKD': 61.519957,\n",
       "  'MMK': 2264.398431,\n",
       "  'MNT': 3699.799795,\n",
       "  'MOP': 8.677294,\n",
       "  'MRU': 42.667066,\n",
       "  'MUR': 47.522284,\n",
       "  'MVR': 16.537719,\n",
       "  'MWK': 1815.098742,\n",
       "  'MXN': 18.689897,\n",
       "  'MYR': 5.025876,\n",
       "  'MZN': 68.142287,\n",
       "  'NAD': 20.448495,\n",
       "  'NGN': 865.65414,\n",
       "  'NIO': 39.459973,\n",
       "  'NOK': 11.780227,\n",
       "  'NPR': 143.8549,\n",
       "  'NZD': 1.75779,\n",
       "  'OMR': 0.414821,\n",
       "  'PAB': 1.078299,\n",
       "  'PEN': 4.051797,\n",
       "  'PGK': 4.019997,\n",
       "  'PHP': 59.850526,\n",
       "  'PKR': 305.960288,\n",
       "  'PLN': 4.338897,\n",
       "  'PYG': 7926.994507,\n",
       "  'QAR': 3.92267,\n",
       "  'RON': 4.972833,\n",
       "  'RSD': 117.171919,\n",
       "  'RUB': 99.283162,\n",
       "  'RWF': 1356.79906,\n",
       "  'SAR': 4.04058,\n",
       "  'SBD': 9.131554,\n",
       "  'SCR': 14.200582,\n",
       "  'SDG': 647.487267,\n",
       "  'SEK': 11.276511,\n",
       "  'SGD': 1.444766,\n",
       "  'SHP': 1.310865,\n",
       "  'SLE': 24.67211,\n",
       "  'SLL': 21277.648121,\n",
       "  'SOS': 615.166788,\n",
       "  'SRD': 40.442655,\n",
       "  'STD': 22298.954388,\n",
       "  'SYP': 14007.508954,\n",
       "  'SZL': 20.384986,\n",
       "  'THB': 38.416161,\n",
       "  'TJS': 11.780192,\n",
       "  'TMT': 3.770722,\n",
       "  'TND': 3.372646,\n",
       "  'TOP': 2.541737,\n",
       "  'TRY': 31.164917,\n",
       "  'TTD': 7.323995,\n",
       "  'TWD': 33.855166,\n",
       "  'TZS': 2701.098128,\n",
       "  'UAH': 39.607273,\n",
       "  'UGX': 4064.997183,\n",
       "  'USD': 1.077349,\n",
       "  'UYU': 42.139971,\n",
       "  'UZS': 13275.990801,\n",
       "  'VEF': 3830760.985659,\n",
       "  'VES': 38.307658,\n",
       "  'VND': 26104.172412,\n",
       "  'VUV': 129.081044,\n",
       "  'WST': 2.958057,\n",
       "  'XAF': 655.956545,\n",
       "  'XAG': 0.046825,\n",
       "  'XAU': 0.000537,\n",
       "  'XCD': 2.911591,\n",
       "  'XDR': 0.811499,\n",
       "  'XOF': 655.956545,\n",
       "  'XPF': 119.331742,\n",
       "  'YER': 269.687492,\n",
       "  'ZAR': 20.4286,\n",
       "  'ZMK': 9697.439969,\n",
       "  'ZMW': 26.012982,\n",
       "  'ZWL': 346.90602}}"
      ]
     },
     "execution_count": 8,
     "metadata": {},
     "output_type": "execute_result"
    }
   ],
   "source": [
    "response.json()"
   ]
  },
  {
   "cell_type": "code",
   "execution_count": 9,
   "id": "88bef230",
   "metadata": {},
   "outputs": [
    {
     "data": {
      "text/plain": [
       "b'{\"success\":true,\"timestamp\":1702158603,\"base\":\"EUR\",\"date\":\"2023-12-09\",\"rates\":{\"AED\":3.956462,\"AFN\":74.649948,\"ALL\":101.849929,\"AMD\":434.999699,\"ANG\":1.943299,\"AOA\":896.897542,\"ARS\":392.400128,\"AUD\":1.636563,\"AWG\":1.939229,\"AZN\":1.835771,\"BAM\":1.955799,\"BBD\":2.177098,\"BDT\":118.609918,\"BGN\":1.955799,\"BHD\":0.4065,\"BIF\":3068.097874,\"BMD\":1.077349,\"BND\":1.443699,\"BOB\":7.450995,\"BRL\":5.292496,\"BSD\":1.078299,\"BTC\":2.4487707e-5,\"BTN\":89.909438,\"BWP\":14.68999,\"BYN\":3.552498,\"BYR\":21116.045369,\"BZD\":2.173498,\"CAD\":1.464603,\"CDF\":2887.296389,\"CHF\":0.948133,\"CLF\":0.034056,\"CLP\":939.719349,\"CNY\":7.688615,\"COP\":4300.09702,\"CRC\":569.099606,\"CUC\":1.077349,\"CUP\":28.549755,\"CVE\":110.264924,\"CZK\":24.39507,\"DJF\":191.989867,\"DKK\":7.462372,\"DOP\":61.429957,\"DZD\":145.120065,\"EGP\":33.318677,\"ERN\":16.160239,\"ETB\":60.137658,\"EUR\":1,\"FJD\":2.410789,\"FKP\":0.859337,\"GBP\":0.858582,\"GEL\":2.871179,\"GGP\":0.859337,\"GHS\":12.971991,\"GIP\":0.859337,\"GMD\":72.559892,\"GNF\":9267.993578,\"GTQ\":8.439994,\"GYD\":225.769844,\"HKD\":8.414425,\"HNL\":26.593982,\"HRK\":7.58623,\"HTG\":142.619901,\"HUF\":381.716032,\"IDR\":16777.559925,\"ILS\":3.992689,\"IMP\":0.859337,\"INR\":89.883626,\"IQD\":1411.499022,\"IRR\":45544.940072,\"ISK\":150.463013,\"JEP\":0.859337,\"JMD\":167.819884,\"JOD\":0.764384,\"JPY\":156.069165,\"KES\":166.819884,\"KGS\":96.22925,\"KHR\":4436.996926,\"KMF\":493.264769,\"KPW\":969.574174,\"KRW\":1419.580431,\"KWD\":0.332212,\"KYD\":0.898599,\"KZT\":494.729657,\"LAK\":22345.984516,\"LBP\":16206.488771,\"LKR\":352.930755,\"LRD\":202.811408,\"LSL\":20.4485,\"LTL\":3.181133,\"LVL\":0.651678,\"LYD\":5.211996,\"MAD\":10.923092,\"MDL\":19.176987,\"MGA\":4942.996575,\"MKD\":61.519957,\"MMK\":2264.398431,\"MNT\":3699.799795,\"MOP\":8.677294,\"MRU\":42.667066,\"MUR\":47.522284,\"MVR\":16.537719,\"MWK\":1815.098742,\"MXN\":18.689897,\"MYR\":5.025876,\"MZN\":68.142287,\"NAD\":20.448495,\"NGN\":865.65414,\"NIO\":39.459973,\"NOK\":11.780227,\"NPR\":143.8549,\"NZD\":1.75779,\"OMR\":0.414821,\"PAB\":1.078299,\"PEN\":4.051797,\"PGK\":4.019997,\"PHP\":59.850526,\"PKR\":305.960288,\"PLN\":4.338897,\"PYG\":7926.994507,\"QAR\":3.92267,\"RON\":4.972833,\"RSD\":117.171919,\"RUB\":99.283162,\"RWF\":1356.79906,\"SAR\":4.04058,\"SBD\":9.131554,\"SCR\":14.200582,\"SDG\":647.487267,\"SEK\":11.276511,\"SGD\":1.444766,\"SHP\":1.310865,\"SLE\":24.67211,\"SLL\":21277.648121,\"SOS\":615.166788,\"SRD\":40.442655,\"STD\":22298.954388,\"SYP\":14007.508954,\"SZL\":20.384986,\"THB\":38.416161,\"TJS\":11.780192,\"TMT\":3.770722,\"TND\":3.372646,\"TOP\":2.541737,\"TRY\":31.164917,\"TTD\":7.323995,\"TWD\":33.855166,\"TZS\":2701.098128,\"UAH\":39.607273,\"UGX\":4064.997183,\"USD\":1.077349,\"UYU\":42.139971,\"UZS\":13275.990801,\"VEF\":3830760.985659,\"VES\":38.307658,\"VND\":26104.172412,\"VUV\":129.081044,\"WST\":2.958057,\"XAF\":655.956545,\"XAG\":0.046825,\"XAU\":0.000537,\"XCD\":2.911591,\"XDR\":0.811499,\"XOF\":655.956545,\"XPF\":119.331742,\"YER\":269.687492,\"ZAR\":20.4286,\"ZMK\":9697.439969,\"ZMW\":26.012982,\"ZWL\":346.90602}}'"
      ]
     },
     "execution_count": 9,
     "metadata": {},
     "output_type": "execute_result"
    }
   ],
   "source": [
    "response.content"
   ]
  },
  {
   "cell_type": "markdown",
   "id": "d4e38da8",
   "metadata": {},
   "source": [
    "## Handling data in json format"
   ]
  },
  {
   "cell_type": "code",
   "execution_count": null,
   "id": "a89781ab",
   "metadata": {},
   "outputs": [],
   "source": [
    "# Requests has in-build method to directly convert the response to JSON format\n",
    "## response.json()"
   ]
  },
  {
   "cell_type": "code",
   "execution_count": 10,
   "id": "7d818ce1",
   "metadata": {},
   "outputs": [
    {
     "data": {
      "text/plain": [
       "dict"
      ]
     },
     "execution_count": 10,
     "metadata": {},
     "output_type": "execute_result"
    }
   ],
   "source": [
    "type(response.json())    # In Python, this JSON is stored as a dictionary"
   ]
  },
  {
   "cell_type": "code",
   "execution_count": 11,
   "id": "2280b4fe",
   "metadata": {},
   "outputs": [
    {
     "data": {
      "text/plain": [
       "200"
      ]
     },
     "execution_count": 11,
     "metadata": {},
     "output_type": "execute_result"
    }
   ],
   "source": [
    "response.status_code"
   ]
  },
  {
   "cell_type": "code",
   "execution_count": 12,
   "id": "a2df275d",
   "metadata": {},
   "outputs": [],
   "source": [
    "# A useful library for JSON manipulation and pretty print\n",
    "import json        \n",
    "                   # It has two main methods:\n",
    "                   # .loads(), which creates a Python dictionary from a JSON format string (just as response.json() does)\n",
    "                   # .dumps(), which creates a JSON format string out of a Python dictionary "
   ]
  },
  {
   "cell_type": "code",
   "execution_count": 13,
   "id": "56ee1461",
   "metadata": {},
   "outputs": [
    {
     "data": {
      "text/plain": [
       "'{\"success\": true, \"timestamp\": 1702158603, \"base\": \"EUR\", \"date\": \"2023-12-09\", \"rates\": {\"AED\": 3.956462, \"AFN\": 74.649948, \"ALL\": 101.849929, \"AMD\": 434.999699, \"ANG\": 1.943299, \"AOA\": 896.897542, \"ARS\": 392.400128, \"AUD\": 1.636563, \"AWG\": 1.939229, \"AZN\": 1.835771, \"BAM\": 1.955799, \"BBD\": 2.177098, \"BDT\": 118.609918, \"BGN\": 1.955799, \"BHD\": 0.4065, \"BIF\": 3068.097874, \"BMD\": 1.077349, \"BND\": 1.443699, \"BOB\": 7.450995, \"BRL\": 5.292496, \"BSD\": 1.078299, \"BTC\": 2.4487707e-05, \"BTN\": 89.909438, \"BWP\": 14.68999, \"BYN\": 3.552498, \"BYR\": 21116.045369, \"BZD\": 2.173498, \"CAD\": 1.464603, \"CDF\": 2887.296389, \"CHF\": 0.948133, \"CLF\": 0.034056, \"CLP\": 939.719349, \"CNY\": 7.688615, \"COP\": 4300.09702, \"CRC\": 569.099606, \"CUC\": 1.077349, \"CUP\": 28.549755, \"CVE\": 110.264924, \"CZK\": 24.39507, \"DJF\": 191.989867, \"DKK\": 7.462372, \"DOP\": 61.429957, \"DZD\": 145.120065, \"EGP\": 33.318677, \"ERN\": 16.160239, \"ETB\": 60.137658, \"EUR\": 1, \"FJD\": 2.410789, \"FKP\": 0.859337, \"GBP\": 0.858582, \"GEL\": 2.871179, \"GGP\": 0.859337, \"GHS\": 12.971991, \"GIP\": 0.859337, \"GMD\": 72.559892, \"GNF\": 9267.993578, \"GTQ\": 8.439994, \"GYD\": 225.769844, \"HKD\": 8.414425, \"HNL\": 26.593982, \"HRK\": 7.58623, \"HTG\": 142.619901, \"HUF\": 381.716032, \"IDR\": 16777.559925, \"ILS\": 3.992689, \"IMP\": 0.859337, \"INR\": 89.883626, \"IQD\": 1411.499022, \"IRR\": 45544.940072, \"ISK\": 150.463013, \"JEP\": 0.859337, \"JMD\": 167.819884, \"JOD\": 0.764384, \"JPY\": 156.069165, \"KES\": 166.819884, \"KGS\": 96.22925, \"KHR\": 4436.996926, \"KMF\": 493.264769, \"KPW\": 969.574174, \"KRW\": 1419.580431, \"KWD\": 0.332212, \"KYD\": 0.898599, \"KZT\": 494.729657, \"LAK\": 22345.984516, \"LBP\": 16206.488771, \"LKR\": 352.930755, \"LRD\": 202.811408, \"LSL\": 20.4485, \"LTL\": 3.181133, \"LVL\": 0.651678, \"LYD\": 5.211996, \"MAD\": 10.923092, \"MDL\": 19.176987, \"MGA\": 4942.996575, \"MKD\": 61.519957, \"MMK\": 2264.398431, \"MNT\": 3699.799795, \"MOP\": 8.677294, \"MRU\": 42.667066, \"MUR\": 47.522284, \"MVR\": 16.537719, \"MWK\": 1815.098742, \"MXN\": 18.689897, \"MYR\": 5.025876, \"MZN\": 68.142287, \"NAD\": 20.448495, \"NGN\": 865.65414, \"NIO\": 39.459973, \"NOK\": 11.780227, \"NPR\": 143.8549, \"NZD\": 1.75779, \"OMR\": 0.414821, \"PAB\": 1.078299, \"PEN\": 4.051797, \"PGK\": 4.019997, \"PHP\": 59.850526, \"PKR\": 305.960288, \"PLN\": 4.338897, \"PYG\": 7926.994507, \"QAR\": 3.92267, \"RON\": 4.972833, \"RSD\": 117.171919, \"RUB\": 99.283162, \"RWF\": 1356.79906, \"SAR\": 4.04058, \"SBD\": 9.131554, \"SCR\": 14.200582, \"SDG\": 647.487267, \"SEK\": 11.276511, \"SGD\": 1.444766, \"SHP\": 1.310865, \"SLE\": 24.67211, \"SLL\": 21277.648121, \"SOS\": 615.166788, \"SRD\": 40.442655, \"STD\": 22298.954388, \"SYP\": 14007.508954, \"SZL\": 20.384986, \"THB\": 38.416161, \"TJS\": 11.780192, \"TMT\": 3.770722, \"TND\": 3.372646, \"TOP\": 2.541737, \"TRY\": 31.164917, \"TTD\": 7.323995, \"TWD\": 33.855166, \"TZS\": 2701.098128, \"UAH\": 39.607273, \"UGX\": 4064.997183, \"USD\": 1.077349, \"UYU\": 42.139971, \"UZS\": 13275.990801, \"VEF\": 3830760.985659, \"VES\": 38.307658, \"VND\": 26104.172412, \"VUV\": 129.081044, \"WST\": 2.958057, \"XAF\": 655.956545, \"XAG\": 0.046825, \"XAU\": 0.000537, \"XCD\": 2.911591, \"XDR\": 0.811499, \"XOF\": 655.956545, \"XPF\": 119.331742, \"YER\": 269.687492, \"ZAR\": 20.4286, \"ZMK\": 9697.439969, \"ZMW\": 26.012982, \"ZWL\": 346.90602}}'"
      ]
     },
     "execution_count": 13,
     "metadata": {},
     "output_type": "execute_result"
    }
   ],
   "source": [
    "json.dumps(response.json())"
   ]
  },
  {
   "cell_type": "code",
   "execution_count": 14,
   "id": "9a6cf1e6",
   "metadata": {},
   "outputs": [
    {
     "name": "stdout",
     "output_type": "stream",
     "text": [
      "{\n",
      "    \"success\": true,\n",
      "    \"timestamp\": 1702158603,\n",
      "    \"base\": \"EUR\",\n",
      "    \"date\": \"2023-12-09\",\n",
      "    \"rates\": {\n",
      "        \"AED\": 3.956462,\n",
      "        \"AFN\": 74.649948,\n",
      "        \"ALL\": 101.849929,\n",
      "        \"AMD\": 434.999699,\n",
      "        \"ANG\": 1.943299,\n",
      "        \"AOA\": 896.897542,\n",
      "        \"ARS\": 392.400128,\n",
      "        \"AUD\": 1.636563,\n",
      "        \"AWG\": 1.939229,\n",
      "        \"AZN\": 1.835771,\n",
      "        \"BAM\": 1.955799,\n",
      "        \"BBD\": 2.177098,\n",
      "        \"BDT\": 118.609918,\n",
      "        \"BGN\": 1.955799,\n",
      "        \"BHD\": 0.4065,\n",
      "        \"BIF\": 3068.097874,\n",
      "        \"BMD\": 1.077349,\n",
      "        \"BND\": 1.443699,\n",
      "        \"BOB\": 7.450995,\n",
      "        \"BRL\": 5.292496,\n",
      "        \"BSD\": 1.078299,\n",
      "        \"BTC\": 2.4487707e-05,\n",
      "        \"BTN\": 89.909438,\n",
      "        \"BWP\": 14.68999,\n",
      "        \"BYN\": 3.552498,\n",
      "        \"BYR\": 21116.045369,\n",
      "        \"BZD\": 2.173498,\n",
      "        \"CAD\": 1.464603,\n",
      "        \"CDF\": 2887.296389,\n",
      "        \"CHF\": 0.948133,\n",
      "        \"CLF\": 0.034056,\n",
      "        \"CLP\": 939.719349,\n",
      "        \"CNY\": 7.688615,\n",
      "        \"COP\": 4300.09702,\n",
      "        \"CRC\": 569.099606,\n",
      "        \"CUC\": 1.077349,\n",
      "        \"CUP\": 28.549755,\n",
      "        \"CVE\": 110.264924,\n",
      "        \"CZK\": 24.39507,\n",
      "        \"DJF\": 191.989867,\n",
      "        \"DKK\": 7.462372,\n",
      "        \"DOP\": 61.429957,\n",
      "        \"DZD\": 145.120065,\n",
      "        \"EGP\": 33.318677,\n",
      "        \"ERN\": 16.160239,\n",
      "        \"ETB\": 60.137658,\n",
      "        \"EUR\": 1,\n",
      "        \"FJD\": 2.410789,\n",
      "        \"FKP\": 0.859337,\n",
      "        \"GBP\": 0.858582,\n",
      "        \"GEL\": 2.871179,\n",
      "        \"GGP\": 0.859337,\n",
      "        \"GHS\": 12.971991,\n",
      "        \"GIP\": 0.859337,\n",
      "        \"GMD\": 72.559892,\n",
      "        \"GNF\": 9267.993578,\n",
      "        \"GTQ\": 8.439994,\n",
      "        \"GYD\": 225.769844,\n",
      "        \"HKD\": 8.414425,\n",
      "        \"HNL\": 26.593982,\n",
      "        \"HRK\": 7.58623,\n",
      "        \"HTG\": 142.619901,\n",
      "        \"HUF\": 381.716032,\n",
      "        \"IDR\": 16777.559925,\n",
      "        \"ILS\": 3.992689,\n",
      "        \"IMP\": 0.859337,\n",
      "        \"INR\": 89.883626,\n",
      "        \"IQD\": 1411.499022,\n",
      "        \"IRR\": 45544.940072,\n",
      "        \"ISK\": 150.463013,\n",
      "        \"JEP\": 0.859337,\n",
      "        \"JMD\": 167.819884,\n",
      "        \"JOD\": 0.764384,\n",
      "        \"JPY\": 156.069165,\n",
      "        \"KES\": 166.819884,\n",
      "        \"KGS\": 96.22925,\n",
      "        \"KHR\": 4436.996926,\n",
      "        \"KMF\": 493.264769,\n",
      "        \"KPW\": 969.574174,\n",
      "        \"KRW\": 1419.580431,\n",
      "        \"KWD\": 0.332212,\n",
      "        \"KYD\": 0.898599,\n",
      "        \"KZT\": 494.729657,\n",
      "        \"LAK\": 22345.984516,\n",
      "        \"LBP\": 16206.488771,\n",
      "        \"LKR\": 352.930755,\n",
      "        \"LRD\": 202.811408,\n",
      "        \"LSL\": 20.4485,\n",
      "        \"LTL\": 3.181133,\n",
      "        \"LVL\": 0.651678,\n",
      "        \"LYD\": 5.211996,\n",
      "        \"MAD\": 10.923092,\n",
      "        \"MDL\": 19.176987,\n",
      "        \"MGA\": 4942.996575,\n",
      "        \"MKD\": 61.519957,\n",
      "        \"MMK\": 2264.398431,\n",
      "        \"MNT\": 3699.799795,\n",
      "        \"MOP\": 8.677294,\n",
      "        \"MRU\": 42.667066,\n",
      "        \"MUR\": 47.522284,\n",
      "        \"MVR\": 16.537719,\n",
      "        \"MWK\": 1815.098742,\n",
      "        \"MXN\": 18.689897,\n",
      "        \"MYR\": 5.025876,\n",
      "        \"MZN\": 68.142287,\n",
      "        \"NAD\": 20.448495,\n",
      "        \"NGN\": 865.65414,\n",
      "        \"NIO\": 39.459973,\n",
      "        \"NOK\": 11.780227,\n",
      "        \"NPR\": 143.8549,\n",
      "        \"NZD\": 1.75779,\n",
      "        \"OMR\": 0.414821,\n",
      "        \"PAB\": 1.078299,\n",
      "        \"PEN\": 4.051797,\n",
      "        \"PGK\": 4.019997,\n",
      "        \"PHP\": 59.850526,\n",
      "        \"PKR\": 305.960288,\n",
      "        \"PLN\": 4.338897,\n",
      "        \"PYG\": 7926.994507,\n",
      "        \"QAR\": 3.92267,\n",
      "        \"RON\": 4.972833,\n",
      "        \"RSD\": 117.171919,\n",
      "        \"RUB\": 99.283162,\n",
      "        \"RWF\": 1356.79906,\n",
      "        \"SAR\": 4.04058,\n",
      "        \"SBD\": 9.131554,\n",
      "        \"SCR\": 14.200582,\n",
      "        \"SDG\": 647.487267,\n",
      "        \"SEK\": 11.276511,\n",
      "        \"SGD\": 1.444766,\n",
      "        \"SHP\": 1.310865,\n",
      "        \"SLE\": 24.67211,\n",
      "        \"SLL\": 21277.648121,\n",
      "        \"SOS\": 615.166788,\n",
      "        \"SRD\": 40.442655,\n",
      "        \"STD\": 22298.954388,\n",
      "        \"SYP\": 14007.508954,\n",
      "        \"SZL\": 20.384986,\n",
      "        \"THB\": 38.416161,\n",
      "        \"TJS\": 11.780192,\n",
      "        \"TMT\": 3.770722,\n",
      "        \"TND\": 3.372646,\n",
      "        \"TOP\": 2.541737,\n",
      "        \"TRY\": 31.164917,\n",
      "        \"TTD\": 7.323995,\n",
      "        \"TWD\": 33.855166,\n",
      "        \"TZS\": 2701.098128,\n",
      "        \"UAH\": 39.607273,\n",
      "        \"UGX\": 4064.997183,\n",
      "        \"USD\": 1.077349,\n",
      "        \"UYU\": 42.139971,\n",
      "        \"UZS\": 13275.990801,\n",
      "        \"VEF\": 3830760.985659,\n",
      "        \"VES\": 38.307658,\n",
      "        \"VND\": 26104.172412,\n",
      "        \"VUV\": 129.081044,\n",
      "        \"WST\": 2.958057,\n",
      "        \"XAF\": 655.956545,\n",
      "        \"XAG\": 0.046825,\n",
      "        \"XAU\": 0.000537,\n",
      "        \"XCD\": 2.911591,\n",
      "        \"XDR\": 0.811499,\n",
      "        \"XOF\": 655.956545,\n",
      "        \"XPF\": 119.331742,\n",
      "        \"YER\": 269.687492,\n",
      "        \"ZAR\": 20.4286,\n",
      "        \"ZMK\": 9697.439969,\n",
      "        \"ZMW\": 26.012982,\n",
      "        \"ZWL\": 346.90602\n",
      "    }\n",
      "}\n"
     ]
    }
   ],
   "source": [
    "print(json.dumps(response.json(), indent = 4))"
   ]
  },
  {
   "cell_type": "code",
   "execution_count": 15,
   "id": "a8d041bf",
   "metadata": {},
   "outputs": [
    {
     "data": {
      "text/plain": [
       "dict_keys(['success', 'timestamp', 'base', 'date', 'rates'])"
      ]
     },
     "execution_count": 15,
     "metadata": {},
     "output_type": "execute_result"
    }
   ],
   "source": [
    "response.json().keys()"
   ]
  },
  {
   "cell_type": "markdown",
   "id": "f9ea46de",
   "metadata": {},
   "source": [
    "## Incoporating parameters in the GET request"
   ]
  },
  {
   "cell_type": "code",
   "execution_count": null,
   "id": "b0d377f4",
   "metadata": {},
   "outputs": [],
   "source": [
    "# Request parameters are added to the URL after a question mark '&'\n",
    "# In this case, we request for the exchange rates of the US Dollar (USD) and Pound Sterling (GBP) only\n",
    "\n",
    "param_url = base_url + '&symbols=USD,GBP'\n",
    "param_url"
   ]
  },
  {
   "cell_type": "code",
   "execution_count": 22,
   "id": "e885340b",
   "metadata": {},
   "outputs": [
    {
     "data": {
      "text/plain": [
       "200"
      ]
     },
     "execution_count": 22,
     "metadata": {},
     "output_type": "execute_result"
    }
   ],
   "source": [
    "# Making a request to the server with the new URL, containing the parameters\n",
    "\n",
    "response_add = requests.get(param_url)\n",
    "response_add.status_code"
   ]
  },
  {
   "cell_type": "code",
   "execution_count": 23,
   "id": "d768d023",
   "metadata": {},
   "outputs": [
    {
     "data": {
      "text/plain": [
       "{'success': True,\n",
       " 'timestamp': 1702159024,\n",
       " 'base': 'EUR',\n",
       " 'date': '2023-12-09',\n",
       " 'rates': {'USD': 1.077349, 'GBP': 0.858582}}"
      ]
     },
     "execution_count": 23,
     "metadata": {},
     "output_type": "execute_result"
    }
   ],
   "source": [
    "# Saving the response data\n",
    "\n",
    "data = response_add.json()\n",
    "data"
   ]
  },
  {
   "cell_type": "code",
   "execution_count": 24,
   "id": "58199461",
   "metadata": {},
   "outputs": [
    {
     "data": {
      "text/plain": [
       "'2023-12-09'"
      ]
     },
     "execution_count": 24,
     "metadata": {},
     "output_type": "execute_result"
    }
   ],
   "source": [
    "# 'data' is a dictionary\n",
    "data['date']"
   ]
  },
  {
   "cell_type": "code",
   "execution_count": 25,
   "id": "49deb0ac",
   "metadata": {},
   "outputs": [
    {
     "data": {
      "text/plain": [
       "'EUR'"
      ]
     },
     "execution_count": 25,
     "metadata": {},
     "output_type": "execute_result"
    }
   ],
   "source": [
    "data['base']"
   ]
  },
  {
   "cell_type": "code",
   "execution_count": 26,
   "id": "67323a8c",
   "metadata": {},
   "outputs": [
    {
     "data": {
      "text/plain": [
       "{'USD': 1.077349, 'GBP': 0.858582}"
      ]
     },
     "execution_count": 26,
     "metadata": {},
     "output_type": "execute_result"
    }
   ],
   "source": [
    "data['rates']"
   ]
  },
  {
   "cell_type": "code",
   "execution_count": null,
   "id": "12d5bf55",
   "metadata": {},
   "outputs": [],
   "source": [
    "param_url = base_url + '&base=GBP' \n",
    "param_url"
   ]
  },
  {
   "cell_type": "code",
   "execution_count": 34,
   "id": "e0af0199",
   "metadata": {},
   "outputs": [
    {
     "data": {
      "text/plain": [
       "<Response [400]>"
      ]
     },
     "execution_count": 34,
     "metadata": {},
     "output_type": "execute_result"
    }
   ],
   "source": [
    "data_value = requests.get(param_url)   # It is because my subscription plan is not allow to show different base.\n",
    "data_value"
   ]
  },
  {
   "cell_type": "code",
   "execution_count": 59,
   "id": "07cfe72f",
   "metadata": {},
   "outputs": [
    {
     "data": {
      "text/plain": [
       "0.858582"
      ]
     },
     "execution_count": 59,
     "metadata": {},
     "output_type": "execute_result"
    }
   ],
   "source": [
    "eur_to_usd = data['rates']['GBP']\n",
    "eur_to_usd"
   ]
  },
  {
   "cell_type": "markdown",
   "id": "9f0360ae",
   "metadata": {},
   "source": [
    "## Obtaining historical exchange rates"
   ]
  },
  {
   "cell_type": "code",
   "execution_count": null,
   "id": "d871c255",
   "metadata": {},
   "outputs": [],
   "source": [
    "base_url = 'http://api.exchangeratesapi.io/v1/2018-12-24?access_key=API_KEY'\n",
    "base_url"
   ]
  },
  {
   "cell_type": "code",
   "execution_count": 38,
   "id": "731480fb",
   "metadata": {},
   "outputs": [
    {
     "data": {
      "text/plain": [
       "200"
      ]
     },
     "execution_count": 38,
     "metadata": {},
     "output_type": "execute_result"
    }
   ],
   "source": [
    "response = requests.get(historical_url)\n",
    "response.status_code"
   ]
  },
  {
   "cell_type": "code",
   "execution_count": null,
   "id": "726ce182",
   "metadata": {},
   "outputs": [],
   "source": [
    "historical_url = base_url\n",
    "historical_url"
   ]
  },
  {
   "cell_type": "code",
   "execution_count": 39,
   "id": "3124df6c",
   "metadata": {},
   "outputs": [
    {
     "data": {
      "text/plain": [
       "{'success': True,\n",
       " 'timestamp': 1545695999,\n",
       " 'historical': True,\n",
       " 'base': 'EUR',\n",
       " 'date': '2018-12-24',\n",
       " 'rates': {'AED': 4.188156,\n",
       "  'AFN': 85.466993,\n",
       "  'ALL': 122.633099,\n",
       "  'AMD': 551.900898,\n",
       "  'ANG': 2.036503,\n",
       "  'AOA': 351.625701,\n",
       "  'ARS': 43.28539,\n",
       "  'AUD': 1.617319,\n",
       "  'AWG': 2.05244,\n",
       "  'AZN': 1.944149,\n",
       "  'BAM': 1.957803,\n",
       "  'BBD': 2.283567,\n",
       "  'BDT': 95.708707,\n",
       "  'BGN': 1.956889,\n",
       "  'BHD': 0.429564,\n",
       "  'BIF': 2079.23558,\n",
       "  'BMD': 1.140244,\n",
       "  'BND': 1.797088,\n",
       "  'BOB': 7.883707,\n",
       "  'BRL': 4.451624,\n",
       "  'BSD': 1.140871,\n",
       "  'BTC': 0.000281,\n",
       "  'BTN': 79.926708,\n",
       "  'BWP': 12.307739,\n",
       "  'BYN': 2.439838,\n",
       "  'BYR': 22348.789346,\n",
       "  'BZD': 2.299702,\n",
       "  'CAD': 1.551929,\n",
       "  'CDF': 1858.598762,\n",
       "  'CHF': 1.124267,\n",
       "  'CLF': 0.02856,\n",
       "  'CLP': 786.878836,\n",
       "  'CNY': 7.866661,\n",
       "  'COP': 3747.413071,\n",
       "  'CRC': 683.040744,\n",
       "  'CUC': 1.140244,\n",
       "  'CUP': 30.216475,\n",
       "  'CVE': 110.521036,\n",
       "  'CZK': 25.87944,\n",
       "  'DJF': 202.643911,\n",
       "  'DKK': 7.467577,\n",
       "  'DOP': 57.485448,\n",
       "  'DZD': 135.14139,\n",
       "  'EGP': 20.412656,\n",
       "  'ERN': 17.104147,\n",
       "  'ETB': 32.325629,\n",
       "  'EUR': 1,\n",
       "  'FJD': 2.430431,\n",
       "  'FKP': 0.900805,\n",
       "  'GBP': 0.898096,\n",
       "  'GEL': 3.0302,\n",
       "  'GGP': 0.896645,\n",
       "  'GHS': 5.541358,\n",
       "  'GIP': 0.900804,\n",
       "  'GMD': 56.253949,\n",
       "  'GNF': 10501.650724,\n",
       "  'GTQ': 8.824922,\n",
       "  'GYD': 238.322939,\n",
       "  'HKD': 8.933644,\n",
       "  'HNL': 27.818511,\n",
       "  'HRK': 7.422441,\n",
       "  'HTG': 88.245224,\n",
       "  'HUF': 321.56014,\n",
       "  'IDR': 16596.256578,\n",
       "  'ILS': 4.29998,\n",
       "  'IMP': 0.896645,\n",
       "  'INR': 80.107868,\n",
       "  'IQD': 1356.890782,\n",
       "  'IRR': 48009.98844,\n",
       "  'ISK': 133.237733,\n",
       "  'JEP': 0.896645,\n",
       "  'JMD': 146.350173,\n",
       "  'JOD': 0.809506,\n",
       "  'JPY': 125.787199,\n",
       "  'KES': 115.985992,\n",
       "  'KGS': 79.644921,\n",
       "  'KHR': 4589.483026,\n",
       "  'KMF': 491.872883,\n",
       "  'KPW': 1026.29862,\n",
       "  'KRW': 1281.896902,\n",
       "  'KWD': 0.346577,\n",
       "  'KYD': 0.950782,\n",
       "  'KZT': 423.338193,\n",
       "  'LAK': 9743.388364,\n",
       "  'LBP': 1718.519389,\n",
       "  'LKR': 206.999856,\n",
       "  'LRD': 179.075442,\n",
       "  'LSL': 16.613594,\n",
       "  'LTL': 3.366845,\n",
       "  'LVL': 0.689722,\n",
       "  'LYD': 1.591441,\n",
       "  'MAD': 10.887622,\n",
       "  'MDL': 19.620755,\n",
       "  'MGA': 4033.616766,\n",
       "  'MKD': 61.462023,\n",
       "  'MMK': 1787.217728,\n",
       "  'MNT': 3008.918722,\n",
       "  'MOP': 9.204338,\n",
       "  'MUR': 39.190441,\n",
       "  'MVR': 17.639726,\n",
       "  'MWK': 844.696603,\n",
       "  'MXN': 22.66281,\n",
       "  'MYR': 4.760409,\n",
       "  'MZN': 70.147472,\n",
       "  'NAD': 16.651682,\n",
       "  'NGN': 414.490858,\n",
       "  'NIO': 36.977919,\n",
       "  'NOK': 9.977711,\n",
       "  'NPR': 128.043725,\n",
       "  'NZD': 1.693547,\n",
       "  'OMR': 0.439057,\n",
       "  'PAB': 1.140871,\n",
       "  'PEN': 3.829111,\n",
       "  'PGK': 3.831666,\n",
       "  'PHP': 60.404475,\n",
       "  'PKR': 158.664965,\n",
       "  'PLN': 4.28806,\n",
       "  'PYG': 6755.776788,\n",
       "  'QAR': 4.15161,\n",
       "  'RON': 4.64501,\n",
       "  'RSD': 118.174678,\n",
       "  'RUB': 78.276406,\n",
       "  'RWF': 997.71381,\n",
       "  'SAR': 4.276602,\n",
       "  'SBD': 9.303083,\n",
       "  'SCR': 15.559205,\n",
       "  'SDG': 54.320905,\n",
       "  'SEK': 10.322175,\n",
       "  'SGD': 1.566807,\n",
       "  'SHP': 1.506146,\n",
       "  'SLL': 9749.089344,\n",
       "  'SOS': 661.341854,\n",
       "  'SRD': 8.503937,\n",
       "  'STD': 24002.827361,\n",
       "  'SVC': 9.982155,\n",
       "  'SYP': 587.225417,\n",
       "  'SZL': 16.613183,\n",
       "  'THB': 37.035146,\n",
       "  'TJS': 10.752333,\n",
       "  'TMT': 4.002258,\n",
       "  'TND': 3.347305,\n",
       "  'TOP': 2.576553,\n",
       "  'TRY': 6.032349,\n",
       "  'TTD': 7.732966,\n",
       "  'TWD': 35.125226,\n",
       "  'TZS': 2634.192386,\n",
       "  'UAH': 31.230893,\n",
       "  'UGX': 4229.166663,\n",
       "  'USD': 1.140244,\n",
       "  'UYU': 36.807607,\n",
       "  'UZS': 9506.786849,\n",
       "  'VEF': 11.388193,\n",
       "  'VND': 26557.48827,\n",
       "  'VUV': 129.930989,\n",
       "  'WST': 2.977697,\n",
       "  'XAF': 656.632257,\n",
       "  'XAG': 0.077183,\n",
       "  'XAU': 0.000898,\n",
       "  'XCD': 3.081568,\n",
       "  'XDR': 0.82127,\n",
       "  'XOF': 367.796694,\n",
       "  'XPF': 119.331742,\n",
       "  'YER': 285.513917,\n",
       "  'ZAR': 16.629723,\n",
       "  'ZMK': 10263.569228,\n",
       "  'ZMW': 13.605391,\n",
       "  'ZWL': 367.563481}}"
      ]
     },
     "execution_count": 39,
     "metadata": {},
     "output_type": "execute_result"
    }
   ],
   "source": [
    "response.json()"
   ]
  },
  {
   "cell_type": "markdown",
   "id": "4b006ca5",
   "metadata": {},
   "source": [
    "## Extrating data for a time period"
   ]
  },
  {
   "cell_type": "code",
   "execution_count": null,
   "id": "a9d57d6a",
   "metadata": {},
   "outputs": [],
   "source": [
    "time_base_url = 'https://api.exchangeratesapi.io/v1/fluctuation?access_key=65f5d866288618a05d8f5c38a42b3bcc'\n",
    "time_base_url"
   ]
  },
  {
   "cell_type": "code",
   "execution_count": null,
   "id": "f494ff64",
   "metadata": {},
   "outputs": [],
   "source": [
    "time_period = time_base_url + '&start_date=2017-04-26'\n",
    "time_period"
   ]
  },
  {
   "cell_type": "code",
   "execution_count": 59,
   "id": "45be3e4c",
   "metadata": {},
   "outputs": [
    {
     "data": {
      "text/plain": [
       "403"
      ]
     },
     "execution_count": 59,
     "metadata": {},
     "output_type": "execute_result"
    }
   ],
   "source": [
    "response = requests.get(time_base_url).status_code\n",
    "response"
   ]
  }
 ],
 "metadata": {
  "kernelspec": {
   "display_name": "Python 3 (ipykernel)",
   "language": "python",
   "name": "python3"
  },
  "language_info": {
   "codemirror_mode": {
    "name": "ipython",
    "version": 3
   },
   "file_extension": ".py",
   "mimetype": "text/x-python",
   "name": "python",
   "nbconvert_exporter": "python",
   "pygments_lexer": "ipython3",
   "version": "3.10.9"
  }
 },
 "nbformat": 4,
 "nbformat_minor": 5
}
