{
 "cells": [
  {
   "cell_type": "markdown",
   "id": "d15a8fd7",
   "metadata": {},
   "source": [
    "# The iTunes search API"
   ]
  },
  {
   "cell_type": "markdown",
   "id": "70da35e4",
   "metadata": {},
   "source": [
    "### The documentation for this particular API can be found here:\n",
    "### https://affiliate.itunes.apple.com/resources/documentation/itunes-store-web-service-search-api/"
   ]
  },
  {
   "cell_type": "markdown",
   "id": "40deeb16",
   "metadata": {},
   "source": [
    "## Passing parametrs in the request"
   ]
  },
  {
   "cell_type": "code",
   "execution_count": 1,
   "id": "7ba80b2d",
   "metadata": {},
   "outputs": [],
   "source": [
    "import requests"
   ]
  },
  {
   "cell_type": "code",
   "execution_count": 2,
   "id": "274c65c5",
   "metadata": {},
   "outputs": [],
   "source": [
    "base_url = 'https://itunes.apple.com/search'"
   ]
  },
  {
   "cell_type": "code",
   "execution_count": 3,
   "id": "48103be9",
   "metadata": {},
   "outputs": [
    {
     "data": {
      "text/plain": [
       "<Response [200]>"
      ]
     },
     "execution_count": 3,
     "metadata": {},
     "output_type": "execute_result"
    }
   ],
   "source": [
    "# We can manually add parameters to the URL, as seen before\n",
    "# E.G., searching for 'the beatles'\n",
    "\n",
    "url = base_url + \"?term=the+beatles&country=us\"\n",
    "requests.get(url)"
   ]
  },
  {
   "cell_type": "code",
   "execution_count": 4,
   "id": "dca6ad5e",
   "metadata": {},
   "outputs": [
    {
     "data": {
      "text/plain": [
       "200"
      ]
     },
     "execution_count": 4,
     "metadata": {},
     "output_type": "execute_result"
    }
   ],
   "source": [
    "# Another way of expressing the parameters is to pass them to the get() method\n",
    "# We pass the key/value parameter pairs as a dictionary to 'params\n",
    "\n",
    "response = requests.get(base_url, params = {'term': 'the beatles', 'country':'us'})\n",
    "response.status_code"
   ]
  },
  {
   "cell_type": "code",
   "execution_count": null,
   "id": "7926e8e5",
   "metadata": {},
   "outputs": [],
   "source": [
    "reponse.text        # OR use\n",
    "responde.content"
   ]
  },
  {
   "cell_type": "markdown",
   "id": "3446a951",
   "metadata": {},
   "source": [
    "## inspecting the output and parameters"
   ]
  },
  {
   "cell_type": "code",
   "execution_count": 5,
   "id": "f2481f3a",
   "metadata": {},
   "outputs": [],
   "source": [
    "# Inspecting the response's JSON\n",
    "import json"
   ]
  },
  {
   "cell_type": "code",
   "execution_count": null,
   "id": "ec020543",
   "metadata": {},
   "outputs": [],
   "source": [
    "info = response.json()\n",
    "print(json.dumps(info, indent = 4))    # .loads(), which creates a Python dictionary from a JSON format string (just as response.json() does)\n",
    "                                       # .dumps(), which creates a JSON format string out of a Python dictionary "
   ]
  },
  {
   "cell_type": "code",
   "execution_count": null,
   "id": "35cc10db",
   "metadata": {},
   "outputs": [],
   "source": [
    "# This seems to contain a lot of data\n",
    "# Let's check if there are some keys we don't see at first glance in the outermost dictionary\n",
    "info.keys()"
   ]
  },
  {
   "cell_type": "code",
   "execution_count": 15,
   "id": "79f0bbf8",
   "metadata": {},
   "outputs": [
    {
     "name": "stdout",
     "output_type": "stream",
     "text": [
      "{\n",
      "    \"wrapperType\": \"audiobook\",\n",
      "    \"artistId\": 160778930,\n",
      "    \"collectionId\": 1439484338,\n",
      "    \"artistName\": \"Bob Spitz\",\n",
      "    \"collectionName\": \"The Beatles (Abridged)\",\n",
      "    \"collectionCensoredName\": \"The Beatles (Abridged)\",\n",
      "    \"artistViewUrl\": \"https://books.apple.com/us/author/bob-spitz/id160778930?uo=4\",\n",
      "    \"collectionViewUrl\": \"https://books.apple.com/us/audiobook/the-beatles-abridged/id1439484338?uo=4\",\n",
      "    \"artworkUrl60\": \"https://is1-ssl.mzstatic.com/image/thumb/Music128/v4/69/b8/65/69b86591-ce4b-9bd0-ab71-3808d0ea06dc/9780743552455.jpg/60x60bb.jpg\",\n",
      "    \"artworkUrl100\": \"https://is1-ssl.mzstatic.com/image/thumb/Music128/v4/69/b8/65/69b86591-ce4b-9bd0-ab71-3808d0ea06dc/9780743552455.jpg/100x100bb.jpg\",\n",
      "    \"collectionPrice\": 16.99,\n",
      "    \"collectionExplicitness\": \"notExplicit\",\n",
      "    \"trackCount\": 1,\n",
      "    \"country\": \"USA\",\n",
      "    \"currency\": \"USD\",\n",
      "    \"releaseDate\": \"2005-11-01T08:00:00Z\",\n",
      "    \"primaryGenreName\": \"Biographies & Memoirs\",\n",
      "    \"previewUrl\": \"https://audio-ssl.itunes.apple.com/itunes-assets/AudioPreview123/v4/8a/3b/60/8a3b60b6-8b98-ec66-4193-2410ade915b6/mzaf_3719604921631393408.std.aac.p.m4a\",\n",
      "    \"description\": \"<b>2007 Audie Award Winner for Non-Fiction, Abridged</b><br /><br />Even before the Beatles hit the big time, a myth was created. This version of the Beatles legend smoothed the rough edges and filled in the fault lines, and for more than forty years this manicured version of the Beatles story has sustained as truth -- until now.<br /> The product of almost a decade of research, hundreds of unprecedented interviews, and the discovery of scores of never-before-revealed documents, Bob Spitz's <i>The Beatles</i> is the biography fans have been waiting for.<br /> Never before has a biography of musicians been so immersive and textured. We are there in the McCartney living room when Paul and John learn to write songs together; backstage the night Ringo takes over on drums; in seedy German strip clubs where George lies about his age so the band can perform; and at the <i>Ed Sullivan Show</i> as America discovers the joy and the madness. From Shea to San Francisco, through the London night, on to India, through marmalade skies, across the universe-all the way to a rooftop concert and one last moment of laughter and music.<br /> It is all here, the highs and the lows, the love and the rivalry, the drugs, the tears, the thrill, the magic never again to be repeated. Bob Spitz's masterpiece is, at long last, the biography the Beatles deserve.\"\n",
      "}\n"
     ]
    }
   ],
   "source": [
    "# The second one contains a list of all the results\n",
    "# Let's look at one such result\n",
    "print(json.dumps(info['results'][0], indent=4))\n",
    "\n",
    "# It's a simple dictionary with a lot of data"
   ]
  },
  {
   "cell_type": "code",
   "execution_count": 9,
   "id": "8a1f1157",
   "metadata": {},
   "outputs": [
    {
     "data": {
      "text/plain": [
       "50"
      ]
     },
     "execution_count": 9,
     "metadata": {},
     "output_type": "execute_result"
    }
   ],
   "source": [
    "info['resultCount']"
   ]
  },
  {
   "cell_type": "code",
   "execution_count": 10,
   "id": "09b1bb68",
   "metadata": {},
   "outputs": [
    {
     "data": {
      "text/plain": [
       "50"
      ]
     },
     "execution_count": 10,
     "metadata": {},
     "output_type": "execute_result"
    }
   ],
   "source": [
    "len(info['results'])"
   ]
  },
  {
   "cell_type": "code",
   "execution_count": 11,
   "id": "14745b82",
   "metadata": {},
   "outputs": [
    {
     "data": {
      "text/plain": [
       "True"
      ]
     },
     "execution_count": 11,
     "metadata": {},
     "output_type": "execute_result"
    }
   ],
   "source": [
    "# The number of results can be set (to a maximum of 200) with the 'limit' parameter\n",
    "r = requests.get(base_url, params = {\"term\": \"the beatles\", \"country\": \"us\", \"limit\": 100})\n",
    "r.ok"
   ]
  },
  {
   "cell_type": "code",
   "execution_count": 12,
   "id": "98b0d4fd",
   "metadata": {},
   "outputs": [
    {
     "data": {
      "text/plain": [
       "False"
      ]
     },
     "execution_count": 12,
     "metadata": {},
     "output_type": "execute_result"
    }
   ],
   "source": [
    "# Finally, let's check the response to an invalid input\n",
    "check_resp = requests.get(base_url, params = {\"term\": \"alternative\", \"country\": \"us\", \"media\": \"hahaha\"})\n",
    "check_resp.ok"
   ]
  },
  {
   "cell_type": "code",
   "execution_count": 13,
   "id": "41f146cc",
   "metadata": {},
   "outputs": [
    {
     "data": {
      "text/plain": [
       "400"
      ]
     },
     "execution_count": 13,
     "metadata": {},
     "output_type": "execute_result"
    }
   ],
   "source": [
    "check_resp.status_code"
   ]
  },
  {
   "cell_type": "code",
   "execution_count": 14,
   "id": "79aef15d",
   "metadata": {},
   "outputs": [
    {
     "data": {
      "text/plain": [
       "{'errorMessage': 'Invalid value(s) for key(s): [mediaType]',\n",
       " 'queryParameters': {'output': 'json',\n",
       "  'callback': 'A javascript function to handle your search results',\n",
       "  'country': 'ISO-2A country code',\n",
       "  'limit': 'The number of search results to return',\n",
       "  'term': 'A search string',\n",
       "  'lang': 'ISO-2A language code'}}"
      ]
     },
     "execution_count": 14,
     "metadata": {},
     "output_type": "execute_result"
    }
   ],
   "source": [
    "# Error message\n",
    "check_resp.json()"
   ]
  },
  {
   "cell_type": "markdown",
   "id": "4b215472",
   "metadata": {},
   "source": [
    "## Structing and exporting the data"
   ]
  },
  {
   "cell_type": "code",
   "execution_count": null,
   "id": "be475eaa",
   "metadata": {},
   "outputs": [],
   "source": [
    "# It may be useful to store the data in a structured form\n",
    "# The pandas package is great for that, as we can use its dataframe (basically a table)\n",
    "# Since the results is a list of 'shallow' dictionaries, it neatly fits into a table\n",
    "# A more complicated, nested dictionary may not be easily transformable into a table"
   ]
  },
  {
   "cell_type": "code",
   "execution_count": 7,
   "id": "9d5cd2ba",
   "metadata": {},
   "outputs": [],
   "source": [
    "import pandas as pd"
   ]
  },
  {
   "cell_type": "code",
   "execution_count": 31,
   "id": "979418f4",
   "metadata": {},
   "outputs": [],
   "source": [
    "# Exporting the data to a CSV (Comma Separated Values) file\n",
    "song_data.to_csv(\"songs_info.csv\")"
   ]
  },
  {
   "cell_type": "code",
   "execution_count": null,
   "id": "ede9fdf2",
   "metadata": {},
   "outputs": [],
   "source": [
    "song_data = pd.DataFrame(info['results'])\n",
    "song_data.head(5)"
   ]
  },
  {
   "cell_type": "markdown",
   "id": "fd41979f",
   "metadata": {},
   "source": [
    "## We will use API for Jokes on Github"
   ]
  },
  {
   "cell_type": "code",
   "execution_count": 26,
   "id": "48b2f908",
   "metadata": {},
   "outputs": [],
   "source": [
    "base_site = \"https://official-joke-api.appspot.com\""
   ]
  },
  {
   "cell_type": "code",
   "execution_count": 31,
   "id": "416ea13f",
   "metadata": {},
   "outputs": [
    {
     "data": {
      "text/plain": [
       "'https://official-joke-api.appspot.com/jokes/ten'"
      ]
     },
     "execution_count": 31,
     "metadata": {},
     "output_type": "execute_result"
    }
   ],
   "source": [
    "complete_url = base_site + '/jokes/ten'\n",
    "complete_url"
   ]
  },
  {
   "cell_type": "code",
   "execution_count": 32,
   "id": "db8f60c7",
   "metadata": {},
   "outputs": [
    {
     "data": {
      "text/plain": [
       "200"
      ]
     },
     "execution_count": 32,
     "metadata": {},
     "output_type": "execute_result"
    }
   ],
   "source": [
    "# Submiting a GET request\n",
    "r = requests.get(complete_url)\n",
    "r.status_code"
   ]
  },
  {
   "cell_type": "code",
   "execution_count": 33,
   "id": "959dd911",
   "metadata": {},
   "outputs": [
    {
     "data": {
      "text/plain": [
       "[{'type': 'general',\n",
       "  'setup': \"What happens to a frog's car when it breaks down?\",\n",
       "  'punchline': 'It gets toad.',\n",
       "  'id': 241},\n",
       " {'type': 'programming',\n",
       "  'setup': 'Hey, wanna hear a joke?',\n",
       "  'punchline': 'Parsing HTML with regex.',\n",
       "  'id': 403},\n",
       " {'type': 'general',\n",
       "  'setup': 'Why are skeletons so calm?',\n",
       "  'punchline': 'Because nothing gets under their skin.',\n",
       "  'id': 310},\n",
       " {'type': 'general',\n",
       "  'setup': 'What lies at the bottom of the ocean and twitches?',\n",
       "  'punchline': 'A nervous wreck.',\n",
       "  'id': 263},\n",
       " {'type': 'general',\n",
       "  'setup': 'Why does Waldo only wear stripes?',\n",
       "  'punchline': \"Because he doesn't want to be spotted.\",\n",
       "  'id': 367},\n",
       " {'type': 'general',\n",
       "  'setup': 'How many apples grow on a tree?',\n",
       "  'punchline': 'All of them!',\n",
       "  'id': 138},\n",
       " {'type': 'general',\n",
       "  'setup': 'Why did the A go to the bathroom and come out as an E?',\n",
       "  'punchline': 'Because he had a vowel movement.',\n",
       "  'id': 319},\n",
       " {'type': 'general',\n",
       "  'setup': 'How many tickles does it take to tickle an octopus?',\n",
       "  'punchline': 'Ten-tickles!',\n",
       "  'id': 145},\n",
       " {'type': 'general',\n",
       "  'setup': 'What was the pumpkin’s favorite sport?',\n",
       "  'punchline': 'Squash.',\n",
       "  'id': 268},\n",
       " {'type': 'general',\n",
       "  'setup': 'Finally realized why my plant sits around doing nothing all day...',\n",
       "  'punchline': 'He loves his pot.',\n",
       "  'id': 46}]"
      ]
     },
     "execution_count": 33,
     "metadata": {},
     "output_type": "execute_result"
    }
   ],
   "source": [
    "r.json()"
   ]
  },
  {
   "cell_type": "code",
   "execution_count": 39,
   "id": "04abeb2d",
   "metadata": {},
   "outputs": [
    {
     "data": {
      "text/plain": [
       "'https://official-joke-api.appspot.com/jokes/programming/ten'"
      ]
     },
     "execution_count": 39,
     "metadata": {},
     "output_type": "execute_result"
    }
   ],
   "source": [
    "programming_jokes = base_site + '/jokes/programming/ten'\n",
    "programming_jokes "
   ]
  },
  {
   "cell_type": "code",
   "execution_count": 40,
   "id": "01aa214b",
   "metadata": {},
   "outputs": [
    {
     "data": {
      "text/plain": [
       "200"
      ]
     },
     "execution_count": 40,
     "metadata": {},
     "output_type": "execute_result"
    }
   ],
   "source": [
    "res = requests.get(programming_jokes)\n",
    "res.status_code"
   ]
  },
  {
   "cell_type": "code",
   "execution_count": 41,
   "id": "45f86767",
   "metadata": {},
   "outputs": [
    {
     "data": {
      "text/plain": [
       "[{'type': 'programming',\n",
       "  'setup': 'Why do Java programmers wear glasses?',\n",
       "  'punchline': \"Because they don't C#.\",\n",
       "  'id': 35},\n",
       " {'type': 'programming',\n",
       "  'setup': 'Lady: How do I spread love in this cruel world?',\n",
       "  'punchline': 'Random Dude: [...💘]',\n",
       "  'id': 59},\n",
       " {'type': 'programming',\n",
       "  'setup': 'I was gonna tell you a joke about UDP...',\n",
       "  'punchline': '...but you might not get it.',\n",
       "  'id': 72},\n",
       " {'type': 'programming',\n",
       "  'setup': 'A male developer often gets called as a Dev, then what would you call a female developer?',\n",
       "  'punchline': 'Devi.',\n",
       "  'id': 396},\n",
       " {'type': 'programming',\n",
       "  'setup': '3 SQL statements walk into a NoSQL bar. Soon, they walk out',\n",
       "  'punchline': \"They couldn't find a table.\",\n",
       "  'id': 376},\n",
       " {'type': 'programming',\n",
       "  'setup': 'The punchline often arrives before the set-up.',\n",
       "  'punchline': 'Do you know the problem with UDP jokes?',\n",
       "  'id': 73},\n",
       " {'type': 'programming',\n",
       "  'setup': 'Why do programmers always mix up Halloween and Christmas?',\n",
       "  'punchline': 'Because Oct 31 == Dec 25',\n",
       "  'id': 23},\n",
       " {'type': 'programming',\n",
       "  'setup': 'What’s the object-oriented way to become wealthy?',\n",
       "  'punchline': 'Inheritance.',\n",
       "  'id': 378},\n",
       " {'type': 'programming',\n",
       "  'setup': \"What's the best thing about a Boolean?\",\n",
       "  'punchline': \"Even if you're wrong, you're only off by a bit.\",\n",
       "  'id': 15},\n",
       " {'type': 'programming',\n",
       "  'setup': \"Why dot net developers don't wear glasses?\",\n",
       "  'punchline': 'Because they see sharp.',\n",
       "  'id': 383}]"
      ]
     },
     "execution_count": 41,
     "metadata": {},
     "output_type": "execute_result"
    }
   ],
   "source": [
    "res.json()"
   ]
  },
  {
   "cell_type": "code",
   "execution_count": 42,
   "id": "8cd8e0dd",
   "metadata": {},
   "outputs": [
    {
     "data": {
      "text/plain": [
       "10"
      ]
     },
     "execution_count": 42,
     "metadata": {},
     "output_type": "execute_result"
    }
   ],
   "source": [
    "len(res.json())"
   ]
  },
  {
   "cell_type": "code",
   "execution_count": 45,
   "id": "b664fc27",
   "metadata": {},
   "outputs": [
    {
     "data": {
      "text/plain": [
       "200"
      ]
     },
     "execution_count": 45,
     "metadata": {},
     "output_type": "execute_result"
    }
   ],
   "source": [
    "jokes_by_id = base_site + '/jokes/20'\n",
    "resp = requests.get(jokes_by_id)\n",
    "resp.status_code"
   ]
  },
  {
   "cell_type": "code",
   "execution_count": 46,
   "id": "9a70565c",
   "metadata": {},
   "outputs": [
    {
     "data": {
      "text/plain": [
       "{'type': 'general',\n",
       " 'setup': 'What do you call a laughing motorcycle?',\n",
       " 'punchline': 'A Yamahahahaha.',\n",
       " 'id': 20}"
      ]
     },
     "execution_count": 46,
     "metadata": {},
     "output_type": "execute_result"
    }
   ],
   "source": [
    "resp.json()"
   ]
  }
 ],
 "metadata": {
  "kernelspec": {
   "display_name": "Python 3 (ipykernel)",
   "language": "python",
   "name": "python3"
  },
  "language_info": {
   "codemirror_mode": {
    "name": "ipython",
    "version": 3
   },
   "file_extension": ".py",
   "mimetype": "text/x-python",
   "name": "python",
   "nbconvert_exporter": "python",
   "pygments_lexer": "ipython3",
   "version": "3.10.9"
  }
 },
 "nbformat": 4,
 "nbformat_minor": 5
}
